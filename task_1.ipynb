{
 "cells": [
  {
   "cell_type": "markdown",
   "id": "ce111a0f",
   "metadata": {},
   "source": [
    "# GRIP @ The Spark Foundation"
   ]
  },
  {
   "cell_type": "markdown",
   "id": "3d348241",
   "metadata": {},
   "source": [
    "## Data Science and Business Analytics"
   ]
  },
  {
   "cell_type": "markdown",
   "id": "1ac30cea",
   "metadata": {},
   "source": [
    "## Name: Pooja Khemchandra Narkhede"
   ]
  },
  {
   "cell_type": "markdown",
   "id": "d86bc2dc",
   "metadata": {},
   "source": [
    "## Level: Beginner"
   ]
  },
  {
   "cell_type": "markdown",
   "id": "77baab0c",
   "metadata": {},
   "source": [
    "## Task: Predict the percentage of student based on the no. of study hours"
   ]
  },
  {
   "cell_type": "markdown",
   "id": "fc2d9e6c",
   "metadata": {},
   "source": [
    "## Import necessary libraries"
   ]
  },
  {
   "cell_type": "code",
   "execution_count": null,
   "id": "b048814c",
   "metadata": {
    "ExecuteTime": {
     "start_time": "2022-02-05T14:18:26.498Z"
    }
   },
   "outputs": [],
   "source": [
    "import pandas as pd \n",
    "import matplotlib.pyplot as plt \n",
    "from sklearn.model_selection import train_test_split\n",
    "from sklearn.linear_model import LinearRegression\n",
    "from sklearn.metrics import accuracy_score, mean_absolute_error,mean_squared_error,r2_score"
   ]
  },
  {
   "cell_type": "markdown",
   "id": "17021fc7",
   "metadata": {},
   "source": [
    "## Import dataset"
   ]
  },
  {
   "cell_type": "code",
   "execution_count": 2,
   "id": "008a3761",
   "metadata": {
    "ExecuteTime": {
     "end_time": "2022-02-02T11:21:52.728623Z",
     "start_time": "2022-02-02T11:21:52.208905Z"
    }
   },
   "outputs": [
    {
     "data": {
      "text/html": [
       "<div>\n",
       "<style scoped>\n",
       "    .dataframe tbody tr th:only-of-type {\n",
       "        vertical-align: middle;\n",
       "    }\n",
       "\n",
       "    .dataframe tbody tr th {\n",
       "        vertical-align: top;\n",
       "    }\n",
       "\n",
       "    .dataframe thead th {\n",
       "        text-align: right;\n",
       "    }\n",
       "</style>\n",
       "<table border=\"1\" class=\"dataframe\">\n",
       "  <thead>\n",
       "    <tr style=\"text-align: right;\">\n",
       "      <th></th>\n",
       "      <th>Hours</th>\n",
       "      <th>Scores</th>\n",
       "    </tr>\n",
       "  </thead>\n",
       "  <tbody>\n",
       "    <tr>\n",
       "      <th>0</th>\n",
       "      <td>2.5</td>\n",
       "      <td>21</td>\n",
       "    </tr>\n",
       "    <tr>\n",
       "      <th>1</th>\n",
       "      <td>5.1</td>\n",
       "      <td>47</td>\n",
       "    </tr>\n",
       "    <tr>\n",
       "      <th>2</th>\n",
       "      <td>3.2</td>\n",
       "      <td>27</td>\n",
       "    </tr>\n",
       "    <tr>\n",
       "      <th>3</th>\n",
       "      <td>8.5</td>\n",
       "      <td>75</td>\n",
       "    </tr>\n",
       "    <tr>\n",
       "      <th>4</th>\n",
       "      <td>3.5</td>\n",
       "      <td>30</td>\n",
       "    </tr>\n",
       "  </tbody>\n",
       "</table>\n",
       "</div>"
      ],
      "text/plain": [
       "   Hours  Scores\n",
       "0    2.5      21\n",
       "1    5.1      47\n",
       "2    3.2      27\n",
       "3    8.5      75\n",
       "4    3.5      30"
      ]
     },
     "execution_count": 2,
     "metadata": {},
     "output_type": "execute_result"
    }
   ],
   "source": [
    "student_data = pd.read_csv('http://bit.ly/w-data')\n",
    "student_data.head()"
   ]
  },
  {
   "cell_type": "markdown",
   "id": "35d2db23",
   "metadata": {},
   "source": [
    "## Initial analysis"
   ]
  },
  {
   "cell_type": "code",
   "execution_count": 3,
   "id": "a65698e6",
   "metadata": {
    "ExecuteTime": {
     "end_time": "2022-02-02T11:21:52.776454Z",
     "start_time": "2022-02-02T11:21:52.739558Z"
    }
   },
   "outputs": [
    {
     "data": {
      "text/plain": [
       "(25, 2)"
      ]
     },
     "execution_count": 3,
     "metadata": {},
     "output_type": "execute_result"
    }
   ],
   "source": [
    "student_data.shape"
   ]
  },
  {
   "cell_type": "code",
   "execution_count": 4,
   "id": "a3911d1e",
   "metadata": {
    "ExecuteTime": {
     "end_time": "2022-02-02T11:21:52.932160Z",
     "start_time": "2022-02-02T11:21:52.785428Z"
    }
   },
   "outputs": [
    {
     "data": {
      "text/plain": [
       "Hours     float64\n",
       "Scores      int64\n",
       "dtype: object"
      ]
     },
     "execution_count": 4,
     "metadata": {},
     "output_type": "execute_result"
    }
   ],
   "source": [
    "student_data.dtypes"
   ]
  },
  {
   "cell_type": "code",
   "execution_count": 5,
   "id": "61f94397",
   "metadata": {
    "ExecuteTime": {
     "end_time": "2022-02-02T11:21:53.138887Z",
     "start_time": "2022-02-02T11:21:52.942125Z"
    }
   },
   "outputs": [
    {
     "data": {
      "text/html": [
       "<div>\n",
       "<style scoped>\n",
       "    .dataframe tbody tr th:only-of-type {\n",
       "        vertical-align: middle;\n",
       "    }\n",
       "\n",
       "    .dataframe tbody tr th {\n",
       "        vertical-align: top;\n",
       "    }\n",
       "\n",
       "    .dataframe thead th {\n",
       "        text-align: right;\n",
       "    }\n",
       "</style>\n",
       "<table border=\"1\" class=\"dataframe\">\n",
       "  <thead>\n",
       "    <tr style=\"text-align: right;\">\n",
       "      <th></th>\n",
       "      <th>Hours</th>\n",
       "      <th>Scores</th>\n",
       "    </tr>\n",
       "  </thead>\n",
       "  <tbody>\n",
       "    <tr>\n",
       "      <th>count</th>\n",
       "      <td>25.000000</td>\n",
       "      <td>25.000000</td>\n",
       "    </tr>\n",
       "    <tr>\n",
       "      <th>mean</th>\n",
       "      <td>5.012000</td>\n",
       "      <td>51.480000</td>\n",
       "    </tr>\n",
       "    <tr>\n",
       "      <th>std</th>\n",
       "      <td>2.525094</td>\n",
       "      <td>25.286887</td>\n",
       "    </tr>\n",
       "    <tr>\n",
       "      <th>min</th>\n",
       "      <td>1.100000</td>\n",
       "      <td>17.000000</td>\n",
       "    </tr>\n",
       "    <tr>\n",
       "      <th>25%</th>\n",
       "      <td>2.700000</td>\n",
       "      <td>30.000000</td>\n",
       "    </tr>\n",
       "    <tr>\n",
       "      <th>50%</th>\n",
       "      <td>4.800000</td>\n",
       "      <td>47.000000</td>\n",
       "    </tr>\n",
       "    <tr>\n",
       "      <th>75%</th>\n",
       "      <td>7.400000</td>\n",
       "      <td>75.000000</td>\n",
       "    </tr>\n",
       "    <tr>\n",
       "      <th>max</th>\n",
       "      <td>9.200000</td>\n",
       "      <td>95.000000</td>\n",
       "    </tr>\n",
       "  </tbody>\n",
       "</table>\n",
       "</div>"
      ],
      "text/plain": [
       "           Hours     Scores\n",
       "count  25.000000  25.000000\n",
       "mean    5.012000  51.480000\n",
       "std     2.525094  25.286887\n",
       "min     1.100000  17.000000\n",
       "25%     2.700000  30.000000\n",
       "50%     4.800000  47.000000\n",
       "75%     7.400000  75.000000\n",
       "max     9.200000  95.000000"
      ]
     },
     "execution_count": 5,
     "metadata": {},
     "output_type": "execute_result"
    }
   ],
   "source": [
    "student_data.describe()"
   ]
  },
  {
   "cell_type": "code",
   "execution_count": 6,
   "id": "a80a2573",
   "metadata": {
    "ExecuteTime": {
     "end_time": "2022-02-02T11:21:53.264087Z",
     "start_time": "2022-02-02T11:21:53.149860Z"
    }
   },
   "outputs": [
    {
     "data": {
      "text/plain": [
       "Hours     0\n",
       "Scores    0\n",
       "dtype: int64"
      ]
     },
     "execution_count": 6,
     "metadata": {},
     "output_type": "execute_result"
    }
   ],
   "source": [
    "student_data.isna().sum()"
   ]
  },
  {
   "cell_type": "code",
   "execution_count": 7,
   "id": "2be40935",
   "metadata": {
    "ExecuteTime": {
     "end_time": "2022-02-02T11:21:54.109885Z",
     "start_time": "2022-02-02T11:21:54.068012Z"
    }
   },
   "outputs": [
    {
     "data": {
      "text/html": [
       "<div>\n",
       "<style scoped>\n",
       "    .dataframe tbody tr th:only-of-type {\n",
       "        vertical-align: middle;\n",
       "    }\n",
       "\n",
       "    .dataframe tbody tr th {\n",
       "        vertical-align: top;\n",
       "    }\n",
       "\n",
       "    .dataframe thead th {\n",
       "        text-align: right;\n",
       "    }\n",
       "</style>\n",
       "<table border=\"1\" class=\"dataframe\">\n",
       "  <thead>\n",
       "    <tr style=\"text-align: right;\">\n",
       "      <th></th>\n",
       "      <th>Hours</th>\n",
       "      <th>Scores</th>\n",
       "    </tr>\n",
       "  </thead>\n",
       "  <tbody>\n",
       "  </tbody>\n",
       "</table>\n",
       "</div>"
      ],
      "text/plain": [
       "Empty DataFrame\n",
       "Columns: [Hours, Scores]\n",
       "Index: []"
      ]
     },
     "execution_count": 7,
     "metadata": {},
     "output_type": "execute_result"
    }
   ],
   "source": [
    "student_data[student_data.duplicated()]"
   ]
  },
  {
   "cell_type": "markdown",
   "id": "efb5041f",
   "metadata": {},
   "source": [
    "## Data Visualization"
   ]
  },
  {
   "cell_type": "code",
   "execution_count": 8,
   "id": "c703c1bf",
   "metadata": {
    "ExecuteTime": {
     "end_time": "2022-02-02T11:21:56.322338Z",
     "start_time": "2022-02-02T11:21:55.508331Z"
    }
   },
   "outputs": [
    {
     "data": {
      "image/png": "[encoded data removed]",
      "text/plain": [
       "<Figure size 432x288 with 1 Axes>"
      ]
     },
     "metadata": {
      "needs_background": "light"
     },
     "output_type": "display_data"
    }
   ],
   "source": [
    "plt.scatter(x='Hours',y='Scores',data=student_data)\n",
    "plt.xlabel('Study_Hours')\n",
    "plt.ylabel('Persentage_Scores')\n",
    "plt.title('Hours Vs Scores')\n",
    "plt.show()"
   ]
  },
  {
   "cell_type": "markdown",
   "id": "7ea53502",
   "metadata": {},
   "source": [
    "## Model Building\n",
    "* Prepare input and output variables"
   ]
  },
  {
   "cell_type": "code",
   "execution_count": 10,
   "id": "2eb18bfe",
   "metadata": {
    "ExecuteTime": {
     "end_time": "2022-02-02T11:22:48.708286Z",
     "start_time": "2022-02-02T11:22:48.695321Z"
    }
   },
   "outputs": [],
   "source": [
    "x = student_data.iloc[:,:-1].values\n",
    "y = student_data.iloc[:,1].values"
   ]
  },
  {
   "cell_type": "code",
   "execution_count": 11,
   "id": "40bc1b32",
   "metadata": {
    "ExecuteTime": {
     "end_time": "2022-02-02T11:22:49.961338Z",
     "start_time": "2022-02-02T11:22:49.940399Z"
    }
   },
   "outputs": [],
   "source": [
    "X_train, X_test, y_train, y_test = train_test_split(x,y,test_size=0.2,random_state=12)"
   ]
  },
  {
   "cell_type": "markdown",
   "id": "51e6d69f",
   "metadata": {},
   "source": [
    "## Model Training "
   ]
  },
  {
   "cell_type": "code",
   "execution_count": 12,
   "id": "defba62c",
   "metadata": {
    "ExecuteTime": {
     "end_time": "2022-02-02T11:22:51.516806Z",
     "start_time": "2022-02-02T11:22:51.486888Z"
    }
   },
   "outputs": [
    {
     "data": {
      "text/plain": [
       "LinearRegression()"
      ]
     },
     "execution_count": 12,
     "metadata": {},
     "output_type": "execute_result"
    }
   ],
   "source": [
    "model = LinearRegression()\n",
    "model.fit(X_train,y_train)"
   ]
  },
  {
   "cell_type": "markdown",
   "id": "a37820f5",
   "metadata": {},
   "source": [
    "## Making actual graph of linear regression with regression line"
   ]
  },
  {
   "cell_type": "code",
   "execution_count": 13,
   "id": "2b4679a3",
   "metadata": {
    "ExecuteTime": {
     "end_time": "2022-02-02T11:22:53.892684Z",
     "start_time": "2022-02-02T11:22:53.187023Z"
    }
   },
   "outputs": [
    {
     "data": {
      "image/png": "[encoded data removed]",
      "text/plain": [
       "<Figure size 432x288 with 1 Axes>"
      ]
     },
     "metadata": {
      "needs_background": "light"
     },
     "output_type": "display_data"
    }
   ],
   "source": [
    "# regression line equation\n",
    "line = model.coef_*x + model.intercept_\n",
    "\n",
    "# Plot testing data on graph\n",
    "plt.scatter(x,y,c='black')\n",
    "plt.plot(x, line,color='red') # assign red color to regression line\n",
    "plt.title('Regression Line For Testing dataset')  \n",
    "plt.xlabel('Study_Hours')  \n",
    "plt.ylabel('Percentage_Score') \n",
    "plt.show()"
   ]
  },
  {
   "cell_type": "markdown",
   "id": "92155beb",
   "metadata": {},
   "source": [
    "## Make Prediction"
   ]
  },
  {
   "cell_type": "code",
   "execution_count": 15,
   "id": "e09cfbbf",
   "metadata": {
    "ExecuteTime": {
     "end_time": "2022-02-02T11:24:15.861095Z",
     "start_time": "2022-02-02T11:24:15.798898Z"
    }
   },
   "outputs": [
    {
     "data": {
      "text/html": [
       "<div>\n",
       "<style scoped>\n",
       "    .dataframe tbody tr th:only-of-type {\n",
       "        vertical-align: middle;\n",
       "    }\n",
       "\n",
       "    .dataframe tbody tr th {\n",
       "        vertical-align: top;\n",
       "    }\n",
       "\n",
       "    .dataframe thead th {\n",
       "        text-align: right;\n",
       "    }\n",
       "</style>\n",
       "<table border=\"1\" class=\"dataframe\">\n",
       "  <thead>\n",
       "    <tr style=\"text-align: right;\">\n",
       "      <th></th>\n",
       "      <th>Actual_Score</th>\n",
       "      <th>Predict_score</th>\n",
       "    </tr>\n",
       "  </thead>\n",
       "  <tbody>\n",
       "    <tr>\n",
       "      <th>0</th>\n",
       "      <td>81</td>\n",
       "      <td>83.029853</td>\n",
       "    </tr>\n",
       "    <tr>\n",
       "      <th>1</th>\n",
       "      <td>30</td>\n",
       "      <td>36.684319</td>\n",
       "    </tr>\n",
       "    <tr>\n",
       "      <th>2</th>\n",
       "      <td>17</td>\n",
       "      <td>13.511551</td>\n",
       "    </tr>\n",
       "    <tr>\n",
       "      <th>3</th>\n",
       "      <td>35</td>\n",
       "      <td>39.580914</td>\n",
       "    </tr>\n",
       "    <tr>\n",
       "      <th>4</th>\n",
       "      <td>21</td>\n",
       "      <td>27.028999</td>\n",
       "    </tr>\n",
       "  </tbody>\n",
       "</table>\n",
       "</div>"
      ],
      "text/plain": [
       "   Actual_Score  Predict_score\n",
       "0            81      83.029853\n",
       "1            30      36.684319\n",
       "2            17      13.511551\n",
       "3            35      39.580914\n",
       "4            21      27.028999"
      ]
     },
     "execution_count": 15,
     "metadata": {},
     "output_type": "execute_result"
    }
   ],
   "source": [
    "y_train_pred = model.predict(X_train)\n",
    "train_df = pd.DataFrame({'Actual_Score':y_train,'Predict_score':y_train_pred})\n",
    "train_df.head() "
   ]
  },
  {
   "cell_type": "code",
   "execution_count": 16,
   "id": "59fa9fa5",
   "metadata": {
    "ExecuteTime": {
     "end_time": "2022-02-02T11:25:27.915839Z",
     "start_time": "2022-02-02T11:25:27.865973Z"
    }
   },
   "outputs": [
    {
     "data": {
      "text/html": [
       "<div>\n",
       "<style scoped>\n",
       "    .dataframe tbody tr th:only-of-type {\n",
       "        vertical-align: middle;\n",
       "    }\n",
       "\n",
       "    .dataframe tbody tr th {\n",
       "        vertical-align: top;\n",
       "    }\n",
       "\n",
       "    .dataframe thead th {\n",
       "        text-align: right;\n",
       "    }\n",
       "</style>\n",
       "<table border=\"1\" class=\"dataframe\">\n",
       "  <thead>\n",
       "    <tr style=\"text-align: right;\">\n",
       "      <th></th>\n",
       "      <th>Actual_Score</th>\n",
       "      <th>Predict_score</th>\n",
       "    </tr>\n",
       "  </thead>\n",
       "  <tbody>\n",
       "    <tr>\n",
       "      <th>0</th>\n",
       "      <td>69</td>\n",
       "      <td>74.340065</td>\n",
       "    </tr>\n",
       "    <tr>\n",
       "      <th>1</th>\n",
       "      <td>60</td>\n",
       "      <td>55.994958</td>\n",
       "    </tr>\n",
       "    <tr>\n",
       "      <th>2</th>\n",
       "      <td>67</td>\n",
       "      <td>61.788150</td>\n",
       "    </tr>\n",
       "    <tr>\n",
       "      <th>3</th>\n",
       "      <td>47</td>\n",
       "      <td>52.132830</td>\n",
       "    </tr>\n",
       "    <tr>\n",
       "      <th>4</th>\n",
       "      <td>95</td>\n",
       "      <td>88.823045</td>\n",
       "    </tr>\n",
       "  </tbody>\n",
       "</table>\n",
       "</div>"
      ],
      "text/plain": [
       "   Actual_Score  Predict_score\n",
       "0            69      74.340065\n",
       "1            60      55.994958\n",
       "2            67      61.788150\n",
       "3            47      52.132830\n",
       "4            95      88.823045"
      ]
     },
     "execution_count": 16,
     "metadata": {},
     "output_type": "execute_result"
    }
   ],
   "source": [
    "y_test_pred = model.predict(X_test)\n",
    "test_df = pd.DataFrame({'Actual_Score':y_test,'Predict_score':y_test_pred})\n",
    "test_df.head() "
   ]
  },
  {
   "cell_type": "code",
   "execution_count": 19,
   "id": "a671fb7c",
   "metadata": {
    "ExecuteTime": {
     "end_time": "2022-02-02T11:33:30.063447Z",
     "start_time": "2022-02-02T11:33:30.030534Z"
    }
   },
   "outputs": [
    {
     "name": "stdout",
     "output_type": "stream",
     "text": [
      "mean squared error : 29.45187560479682\n",
      "mean absolute error : 4.909206624068071\n",
      "r2 score : 0.9528277512045826\n"
     ]
    }
   ],
   "source": [
    "# training accuracy\n",
    "print('mean squared error :',mean_squared_error(y_train,y_train_pred))\n",
    "print('mean absolute error :',mean_absolute_error(y_train,y_train_pred))\n",
    "print('r2 score :',r2_score(y_train,y_train_pred))"
   ]
  },
  {
   "cell_type": "code",
   "execution_count": 20,
   "id": "876a987b",
   "metadata": {
    "ExecuteTime": {
     "end_time": "2022-02-02T11:35:08.226877Z",
     "start_time": "2022-02-02T11:35:08.201954Z"
    }
   },
   "outputs": [
    {
     "name": "stdout",
     "output_type": "stream",
     "text": [
      "mean squared error : 27.244152583776987\n",
      "mean absolute error : 5.173348586293498\n",
      "r2 score : 0.8897176466006437\n"
     ]
    }
   ],
   "source": [
    "# testing accuracy\n",
    "print('mean squared error :',mean_squared_error(y_test,y_test_pred))\n",
    "print('mean absolute error :',mean_absolute_error(y_test,y_test_pred))\n",
    "print('r2 score :',r2_score(y_test,y_test_pred))"
   ]
  },
  {
   "cell_type": "markdown",
   "id": "c57f3d7e",
   "metadata": {},
   "source": [
    "## Predicting the score if a student studies for 9.25 hours a day."
   ]
  },
  {
   "cell_type": "code",
   "execution_count": 27,
   "id": "ad23be52",
   "metadata": {
    "ExecuteTime": {
     "end_time": "2022-02-02T11:41:31.968258Z",
     "start_time": "2022-02-02T11:41:31.943329Z"
    }
   },
   "outputs": [
    {
     "name": "stdout",
     "output_type": "stream",
     "text": [
      "Number of hours :[[9.25]]\n",
      "Predict Score :92.2024066507085\n"
     ]
    }
   ],
   "source": [
    "Hours = [[9.25]]\n",
    "score = model.predict(Hours)\n",
    "print('Number of hours :{}'.format(Hours))\n",
    "print('Predict Score :{}'.format(score[0]))"
   ]
  },
  {
   "cell_type": "markdown",
   "id": "73c35213",
   "metadata": {},
   "source": [
    "## Task 1 Completed"
   ]
  },
  {
   "cell_type": "markdown",
   "id": "c8e0351e",
   "metadata": {},
   "source": [
    "# Thank you The Spark Foundation For gave me the opportunity !"
   ]
  },
  {
   "cell_type": "code",
   "execution_count": null,
   "id": "199eafbb",
   "metadata": {},
   "outputs": [],
   "source": []
  }
 ],
 "metadata": {
  "celltoolbar": "Raw Cell Format",
  "kernelspec": {
   "display_name": "Python 3",
   "language": "python",
   "name": "python3"
  },
  "language_info": {
   "codemirror_mode": {
    "name": "ipython",
    "version": 3
   },
   "file_extension": ".py",
   "mimetype": "text/x-python",
   "name": "python",
   "nbconvert_exporter": "python",
   "pygments_lexer": "ipython3",
   "version": "3.8.8"
  },
  "toc": {
   "base_numbering": 1,
   "nav_menu": {},
   "number_sections": true,
   "sideBar": true,
   "skip_h1_title": false,
   "title_cell": "Table of Contents",
   "title_sidebar": "Contents",
   "toc_cell": false,
   "toc_position": {},
   "toc_section_display": true,
   "toc_window_display": false
  }
 },
 "nbformat": 4,
 "nbformat_minor": 5
}
